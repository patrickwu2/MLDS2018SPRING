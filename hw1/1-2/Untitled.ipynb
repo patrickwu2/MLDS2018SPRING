{
 "cells": [
  {
   "cell_type": "code",
   "execution_count": null,
   "metadata": {},
   "outputs": [],
   "source": [
    "import math\n",
    "import numpy as np\n",
    "import tensorflow as tf\n",
    "import matplotlib.pyplot as plt\n",
    "from util import seq , gif_gen\n",
    "from matplotlib.animation import FuncAnimation\n",
    "%matplotlib inline\n",
    "tf.set_random_seed(777)\n",
    "\n",
    "\n",
    "\n",
    "########### Function Preparing ############\n",
    "def function(x):\n",
    "\treturn np.sin(x*x/10)+x/10\n",
    "\n",
    "def_range = (0,10)\n",
    "print('{0:-^40s}'.format(\"first generate\"))\n",
    "allX = np.arange(def_range[0],def_range[1],0.001)\n",
    "allY = function(allX)\n",
    "\t\n",
    "def next_batch(size,range=(0,1)):\n",
    "\tb = np.random.randint(0,len(allX),size)\n",
    "\treturn allX[b].reshape(-1,1) , allY[b].reshape(-1,1)\n",
    "\n",
    "\n",
    "############ Model Preparing ################\n",
    "x = tf.placeholder( tf.float32 , [None , 1])\n",
    "y_ = tf.placeholder( tf.float32 , [None, 1])\n",
    "\n",
    "model = seq(x , y_ , 1)\n",
    "\n",
    "for _ in range(5):\n",
    "\tmodel.add_FC(10)\n",
    "\tmodel.add_activate(tf.nn.relu)\n",
    "\n",
    "model.add_FC(1)\n",
    "sess = tf.Session()\n",
    "pred_y_ , train_step = model.get_train(sess)\n",
    "zero_norm_train_step = model.get_zero_norm_train()\n",
    "print(\"\\n{0:-^40s}\\n\".format(\"all param:\" + str(model.summary())))\n",
    "tf.global_variables_initializer().run(session=sess)\n",
    "\n",
    "\n",
    "'''\n",
    "writer = tf.summary.FileWriter(\"/tmp/tensorflow/1-3\", sess.graph)\n",
    "'''"
   ]
  },
  {
   "cell_type": "code",
   "execution_count": null,
   "metadata": {},
   "outputs": [],
   "source": [
    "############## Start Training ##################\n",
    "error_table = []\n",
    "#model.load_model('model_1-3')\n",
    "if True:\n",
    "\tfor _ in range(20000):\n",
    "\t\ttrainX , trainY = next_batch(10000,range=def_range)\n",
    "\t\tsess.run(train_step,feed_dict={\n",
    "\t\t\t\tx : trainX,\n",
    "\t\t\t\ty_ : trainY\n",
    "\t\t\t})\n",
    "\t\tif _ % 100 == 0 :\n",
    "\t\t\tloss = model.get_loss(allX.reshape(-1,1), allY.reshape(-1,1))\n",
    "\t\t\terror_table.append([_ , loss])\n",
    "\t\t\tprint (\"epoch %d loss %8g \" %(_,loss) , end='\\t')\n",
    "if False:\n",
    "\tfor _ in range(2001):\n",
    "\t\ttrainX , trainY = next_batch(10000,range=def_range)\n",
    "\t\tsess.run(zero_norm_train_step,feed_dict={\n",
    "\t\t\t\tx : trainX,\n",
    "\t\t\t\ty_ : trainY\n",
    "\t\t\t})\n",
    "\t\tif _ % 10 == 0 :\n",
    "\t\t\tgrad_norm = model.get_grad_norm(trainX,trainY)\n",
    "\t\t\tgrad_hessians = np.array(model.get_grad_hessians(trainX,trainY))[0]\n",
    "\t\t\tprint(grad_hessians , file=open('temp','w'))\n",
    "\t\t\tprint(sess.run(model.tracable,feed_dict={x:trainX,y_:trainY}).shape)\n",
    "\t\t\tprint (\"epoch %d grad_norm %8g \" %(_,grad_norm))\n",
    "\n",
    "model.save_model('model_1-3')\n"
   ]
  },
  {
   "cell_type": "code",
   "execution_count": null,
   "metadata": {},
   "outputs": [],
   "source": [
    "############### Output Prepare ###################\n",
    "pred_y = sess.run(pred_y_ , feed_dict={x:allX.reshape(-1,1)}).reshape(-1)\n",
    "allX = allX.reshape(-1)\n",
    "allY = allY.reshape(-1)\n",
    "plt.xlim(def_range)\n",
    "plt.scatter(x=allX, y = allY , s = 1 , color='red')\n",
    "plt.scatter(x=allX, y = pred_y , s = 1 , color='blue')\n",
    "#plt.savefig('final_pic.png')\n",
    "plt.show()\n",
    "\t"
   ]
  },
  {
   "cell_type": "code",
   "execution_count": null,
   "metadata": {},
   "outputs": [],
   "source": []
  },
  {
   "cell_type": "code",
   "execution_count": null,
   "metadata": {},
   "outputs": [],
   "source": []
  },
  {
   "cell_type": "code",
   "execution_count": null,
   "metadata": {},
   "outputs": [],
   "source": []
  },
  {
   "cell_type": "code",
   "execution_count": null,
   "metadata": {},
   "outputs": [],
   "source": []
  },
  {
   "cell_type": "code",
   "execution_count": null,
   "metadata": {},
   "outputs": [],
   "source": []
  }
 ],
 "metadata": {
  "kernelspec": {
   "display_name": "Python [conda env:tf]",
   "language": "python",
   "name": "conda-env-tf-py"
  },
  "language_info": {
   "codemirror_mode": {
    "name": "ipython",
    "version": 3
   },
   "file_extension": ".py",
   "mimetype": "text/x-python",
   "name": "python",
   "nbconvert_exporter": "python",
   "pygments_lexer": "ipython3",
   "version": "3.6.4"
  }
 },
 "nbformat": 4,
 "nbformat_minor": 2
}
